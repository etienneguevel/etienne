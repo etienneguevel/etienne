{
 "cells": [
  {
   "cell_type": "code",
   "execution_count": 1,
   "id": "179d8e52-85c6-42dd-9a46-39c9f7ec8411",
   "metadata": {},
   "outputs": [],
   "source": [
    "import pandas as pd\n",
    "import numpy as np\n",
    "import os\n",
    "import matplotlib.pyplot as plt\n",
    "import scipy.fft \n",
    "import pmdarima as pm\n",
    "import itertools\n",
    "import statsmodels.api as sm\n",
    "import datetime\n",
    "\n",
    "\n",
    "os.chdir('/home/etienne/data/spikes')\n",
    "spikes3=pd.read_csv('spikesrat3.csv')"
   ]
  },
  {
   "cell_type": "code",
   "execution_count": 2,
   "id": "ef88f4a5-e6a8-4e43-8db2-dfc483484fbb",
   "metadata": {},
   "outputs": [],
   "source": [
    "import cv2\n",
    "def window(spikes,delta):\n",
    "    '''\n",
    "    Entry: number of spikes per hour\n",
    "           delta which is the number of time points chosen to average\n",
    "           \n",
    "    Return: the unweighted downsampled temporal network of new size (time points)/delta\n",
    "    '''\n",
    "    Filter=np.ones((delta,))\n",
    "\n",
    "    m=np.convolve(spikes,Filter,mode='valid')[::delta]\n",
    "    return(m)"
   ]
  },
  {
   "cell_type": "code",
   "execution_count": 3,
   "id": "a002194b-24a3-4afa-9dbd-4f3ce4abc2eb",
   "metadata": {},
   "outputs": [],
   "source": [
    "spikes=np.array(spikes3)[:,0]\n",
    "delta=24\n",
    "\n",
    "Filter=np.ones((delta,))/delta\n",
    "\n",
    "spikespd=window(spikes,delta)"
   ]
  },
  {
   "cell_type": "code",
   "execution_count": 4,
   "id": "d57a709e-4262-43f5-9b88-cfd8b0ae9334",
   "metadata": {},
   "outputs": [],
   "source": [
    "from scipy.signal import sosfiltfilt,butter\n",
    "\n",
    "spikesph=spikes[240:]\n",
    "spikesphr=spikes[240:-240]\n",
    "signalt=spikespd[10:]\n",
    "\n",
    "fh=1/96*2\n",
    "\n",
    "filtre=butter(10,[fh],'low',output='sos')\n",
    "\n",
    "spkf=sosfiltfilt(filtre,spikesph)\n",
    "spkfr=sosfiltfilt(filtre,spikesphr)"
   ]
  },
  {
   "cell_type": "code",
   "execution_count": 1,
   "id": "b8c8bfab-49ec-4e51-9d8c-7daabbaa20de",
   "metadata": {},
   "outputs": [
    {
     "ename": "NameError",
     "evalue": "name 'plt' is not defined",
     "output_type": "error",
     "traceback": [
      "\u001b[0;31m---------------------------------------------------------------------------\u001b[0m",
      "\u001b[0;31mNameError\u001b[0m                                 Traceback (most recent call last)",
      "\u001b[0;32m<ipython-input-1-7932dea135c5>\u001b[0m in \u001b[0;36m<module>\u001b[0;34m\u001b[0m\n\u001b[0;32m----> 1\u001b[0;31m \u001b[0mplt\u001b[0m\u001b[0;34m.\u001b[0m\u001b[0mfigure\u001b[0m\u001b[0;34m(\u001b[0m\u001b[0mfigsize\u001b[0m\u001b[0;34m=\u001b[0m\u001b[0;34m(\u001b[0m\u001b[0;36m16\u001b[0m\u001b[0;34m,\u001b[0m\u001b[0;36m8\u001b[0m\u001b[0;34m)\u001b[0m\u001b[0;34m)\u001b[0m\u001b[0;34m\u001b[0m\u001b[0;34m\u001b[0m\u001b[0m\n\u001b[0m\u001b[1;32m      2\u001b[0m \u001b[0;34m\u001b[0m\u001b[0m\n\u001b[1;32m      3\u001b[0m \u001b[0mplt\u001b[0m\u001b[0;34m.\u001b[0m\u001b[0mplot\u001b[0m\u001b[0;34m(\u001b[0m\u001b[0mnp\u001b[0m\u001b[0;34m.\u001b[0m\u001b[0marange\u001b[0m\u001b[0;34m(\u001b[0m\u001b[0mlen\u001b[0m\u001b[0;34m(\u001b[0m\u001b[0mspkf\u001b[0m\u001b[0;34m)\u001b[0m\u001b[0;34m)\u001b[0m\u001b[0;34m/\u001b[0m\u001b[0;36m24\u001b[0m\u001b[0;34m,\u001b[0m\u001b[0mspikesph\u001b[0m\u001b[0;34m)\u001b[0m\u001b[0;34m\u001b[0m\u001b[0;34m\u001b[0m\u001b[0m\n\u001b[1;32m      4\u001b[0m \u001b[0mplt\u001b[0m\u001b[0;34m.\u001b[0m\u001b[0mplot\u001b[0m\u001b[0;34m(\u001b[0m\u001b[0mnp\u001b[0m\u001b[0;34m.\u001b[0m\u001b[0marange\u001b[0m\u001b[0;34m(\u001b[0m\u001b[0mlen\u001b[0m\u001b[0;34m(\u001b[0m\u001b[0mspkf\u001b[0m\u001b[0;34m)\u001b[0m\u001b[0;34m)\u001b[0m\u001b[0;34m/\u001b[0m\u001b[0;36m24\u001b[0m\u001b[0;34m,\u001b[0m\u001b[0;34m(\u001b[0m\u001b[0mspkf\u001b[0m\u001b[0;34m)\u001b[0m\u001b[0;34m)\u001b[0m\u001b[0;34m\u001b[0m\u001b[0;34m\u001b[0m\u001b[0m\n\u001b[1;32m      5\u001b[0m \u001b[0;31m#plt.plot(np.arange(len(spkf))/24,(spikes[240:]))\u001b[0m\u001b[0;34m\u001b[0m\u001b[0;34m\u001b[0m\u001b[0;34m\u001b[0m\u001b[0m\n",
      "\u001b[0;31mNameError\u001b[0m: name 'plt' is not defined"
     ]
    }
   ],
   "source": [
    "plt.figure(figsize=(16,8))\n",
    "\n",
    "plt.plot(np.arange(len(spkf))/24,spikesph)\n",
    "plt.plot(np.arange(len(spkf))/24,(spkf))\n",
    "#plt.plot(np.arange(len(spkf))/24,(spikes[240:]))\n",
    "plt.plot(np.arange(len(spkfr[:-96]))/24,spkfr[:-96])\n",
    "plt.bar(np.arange(56),signalt/24,color=(0,1,0,0.3))"
   ]
  },
  {
   "cell_type": "code",
   "execution_count": 8,
   "id": "ca26ca63-2fb5-40dd-88d7-491df2bcbfe6",
   "metadata": {},
   "outputs": [
    {
     "data": {
      "text/plain": [
       "(0.0, 0.1)"
      ]
     },
     "execution_count": 8,
     "metadata": {},
     "output_type": "execute_result"
    },
    {
     "data": {
      "image/png": "[encoded data removed]",
      "text/plain": [
       "<Figure size 1152x576 with 1 Axes>"
      ]
     },
     "metadata": {
      "needs_background": "light"
     },
     "output_type": "display_data"
    }
   ],
   "source": [
    "from scipy.fft import fft, fftfreq, fftshift\n",
    "\n",
    "DFT=fft(spkf)\n",
    "sp=fftshift(DFT)\n",
    "freq = fftshift(fftfreq(spkf.shape[-1]))\n",
    "\n",
    "DFTr=fft(spikes[240:-240])\n",
    "spr=fftshift(DFTr)\n",
    "freqr = fftshift(fftfreq(spkfr.shape[-1]))\n",
    "\n",
    "\n",
    "plt.figure(figsize=(16,8))\n",
    "plt.plot(freq, np.sqrt((sp.imag)**2 +(sp.real)**2))\n",
    "plt.plot(freqr, np.sqrt((spr.imag)**2 +(spr.real)**2))\n",
    "\n",
    "plt.xlim((0,0.1))\n",
    "\n"
   ]
  },
  {
   "cell_type": "code",
   "execution_count": 13,
   "id": "a05ee44c-780c-4569-a9c0-5901be78dd51",
   "metadata": {},
   "outputs": [],
   "source": [
    "from statsmodels.tsa.seasonal import seasonal_decompose\n",
    "from dateutil.parser import parse\n",
    "\n",
    "datelist=[]\n",
    "ndays=4\n",
    "\n",
    "signal=spkfr[:-ndays*24]\n",
    "\n",
    "timedelta=datetime.timedelta(hours=1)\n",
    "date0=datetime.datetime(2015, 8, 9,16, minute=0, second=0, microsecond=0)\n",
    "\n",
    "for k in range(len(signal)):\n",
    "    date=date0+k*timedelta\n",
    "    datelist.append(date)\n",
    "    \n",
    "    \n",
    "df = pd.DataFrame([datelist,signal], ['ds','y']).T\n",
    "df.set_index('ds',inplace=True)"
   ]
  },
  {
   "cell_type": "code",
   "execution_count": 22,
   "id": "618ae726-168c-4ba2-b9b8-ad8b01dabc77",
   "metadata": {},
   "outputs": [
    {
     "data": {
      "text/plain": [
       "0.9786852729574782"
      ]
     },
     "execution_count": 22,
     "metadata": {},
     "output_type": "execute_result"
    }
   ],
   "source": [
    "from statsmodels.tsa.stattools import adfuller\n",
    "adfuller((df.shift(1)-df).dropna())[1]"
   ]
  }
 ],
 "metadata": {
  "kernelspec": {
   "display_name": "Python 3",
   "language": "python",
   "name": "python3"
  },
  "language_info": {
   "codemirror_mode": {
    "name": "ipython",
    "version": 3
   },
   "file_extension": ".py",
   "mimetype": "text/x-python",
   "name": "python",
   "nbconvert_exporter": "python",
   "pygments_lexer": "ipython3",
   "version": "3.8.5"
  }
 },
 "nbformat": 4,
 "nbformat_minor": 5
}
