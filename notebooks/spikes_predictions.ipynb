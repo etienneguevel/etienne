{
 "cells": [
  {
   "cell_type": "code",
   "execution_count": 34,
   "id": "60472dad-29a5-4755-9ee2-6928f84afb04",
   "metadata": {},
   "outputs": [],
   "source": [
    "import pandas as pd\n",
    "import numpy as np\n",
    "import os\n",
    "import matplotlib.pyplot as plt\n",
    "\n",
    "os.chdir('/home/etienne/data/spikes')\n",
    "spikes3=pd.read_csv('spikesrat3.csv')"
   ]
  },
  {
   "cell_type": "code",
   "execution_count": 28,
   "id": "2e2390c0-3b9d-417a-9d37-caa6cd4a49dd",
   "metadata": {},
   "outputs": [],
   "source": [
    "import cv2\n",
    "def window(spikes,delta):\n",
    "    '''\n",
    "    Entry: number of spikes per hour\n",
    "           delta which is the number of time points chosen to average\n",
    "           \n",
    "    Return: the unweighted downsampled temporal network of new size (time points)/delta\n",
    "    '''\n",
    "    Filter=np.ones((delta,))/delta\n",
    "\n",
    "    m=np.convolve(spikes,Filter,mode='valid')[::delta]\n",
    "    return(m)"
   ]
  },
  {
   "cell_type": "code",
   "execution_count": 18,
   "id": "41c9f52f-76d4-40bf-b06a-c16bc213b81a",
   "metadata": {},
   "outputs": [
    {
     "data": {
      "text/plain": [
       "(1597, 1)"
      ]
     },
     "execution_count": 18,
     "metadata": {},
     "output_type": "execute_result"
    }
   ],
   "source": [
    "np.array(spikes3).shape"
   ]
  },
  {
   "cell_type": "code",
   "execution_count": 31,
   "id": "46c6aca9-002e-4214-8b43-6d0ebf862118",
   "metadata": {},
   "outputs": [],
   "source": [
    "spikes=np.array(spikes3)[:,0]\n",
    "delta=24\n",
    "\n",
    "Filter=np.ones((delta,))/delta\n",
    "\n",
    "spikespd=window(spikes,24)"
   ]
  },
  {
   "cell_type": "code",
   "execution_count": null,
   "id": "1e79fefa-b8a5-41d8-92cf-d41ee97f8466",
   "metadata": {},
   "outputs": [],
   "source": []
  },
  {
   "cell_type": "code",
   "execution_count": 45,
   "id": "de1b5e37-abfa-41f0-a311-8d416747197c",
   "metadata": {},
   "outputs": [
    {
     "data": {
      "text/plain": [
       "<BarContainer object of 41 artists>"
      ]
     },
     "execution_count": 45,
     "metadata": {},
     "output_type": "execute_result"
    },
    {
     "data": {
      "image/png": "[encoded data removed]",
      "text/plain": [
       "<Figure size 864x432 with 1 Axes>"
      ]
     },
     "metadata": {
      "needs_background": "light"
     },
     "output_type": "display_data"
    }
   ],
   "source": [
    "plt.figure(figsize=(12,6))\n",
    "plt.bar(np.arange(11,len(spikespd)-14),spikespd[11:len(spikespd)-14])"
   ]
  },
  {
   "cell_type": "code",
   "execution_count": 48,
   "id": "736349b7-1a4b-48ce-b903-a0e47ebaaf7b",
   "metadata": {},
   "outputs": [
    {
     "data": {
      "text/plain": [
       "984"
      ]
     },
     "execution_count": 48,
     "metadata": {},
     "output_type": "execute_result"
    }
   ],
   "source": [
    "(len(spikespd)-25)*24"
   ]
  },
  {
   "cell_type": "code",
   "execution_count": 49,
   "id": "0b3afc32-278a-4417-a8a5-96e43350e3d2",
   "metadata": {},
   "outputs": [
    {
     "data": {
      "text/plain": [
       "264"
      ]
     },
     "execution_count": 49,
     "metadata": {},
     "output_type": "execute_result"
    }
   ],
   "source": [
    "11*24"
   ]
  }
 ],
 "metadata": {
  "kernelspec": {
   "display_name": "Python 3",
   "language": "python",
   "name": "python3"
  },
  "language_info": {
   "codemirror_mode": {
    "name": "ipython",
    "version": 3
   },
   "file_extension": ".py",
   "mimetype": "text/x-python",
   "name": "python",
   "nbconvert_exporter": "python",
   "pygments_lexer": "ipython3",
   "version": "3.8.5"
  }
 },
 "nbformat": 4,
 "nbformat_minor": 5
}
